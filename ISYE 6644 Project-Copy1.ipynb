{
 "cells": [
  {
   "cell_type": "markdown",
   "id": "ca552d91",
   "metadata": {},
   "source": [
    "# Discrete Event Game Simulation"
   ]
  },
  {
   "cell_type": "markdown",
   "id": "e3ba9457",
   "metadata": {},
   "source": [
    "The objective is to simulate a discrete-event two-player game in which players take turns rolling dice and performing an consequential action. The rules are as follows:\n",
    "\n",
    "There are two players, A and B. At the beginning of the game, each starts with 4 coins, and there are 2 coins in the pot. A goes first, then B, then A,. . . . During a particular player’s turn, the player tosses a 6-sided die. If the player rolls a:\n",
    "\n",
    "    • 1, then the player does nothing.\n",
    "    • 2: then the player takes all coins in the pot.\n",
    "    • 3: then the player takes half of the coins in the pot (rounded down).\n",
    "    • 4,5,6: then the player puts a coin in the pot.\n",
    "    \n",
    "A player loses (and the game is over) if they are unable to perform the task (i.e., if they have 0 coins and need to place one in the pot). We define a cycle as A and then B completing their turns. The exception is if a player goes out; that is the\n",
    "final cycle (but it still counts as the last cycle).\n",
    "\n",
    "The rules of this game are deterministic and there is no decision-making element to the game, thus, it is easily simulated using a pseudo-random number generator and variables that store the defining attributes of the game. The foundation of the simulation is the ‘random.uniform’ function from the ‘random’ package in Python. Random samples are taken from a Unif[0, 1] distribution and are inverted to simulate a dice-roll using the Inverse Transform Theorem. The game is simulated 100,000 times and the cycle length of each game is recorded and stored for analysis. The experiment uncovered that the distribution of cycle length resembles a distribution as follows: Y ~ 4 + Geom(0.057). I then implement and perform a chi-squared goodness of fit test for cycle length with this distribution."
   ]
  },
  {
   "cell_type": "code",
   "execution_count": 53,
   "id": "88252f50",
   "metadata": {},
   "outputs": [],
   "source": [
    "import random\n",
    "import math\n",
    "from matplotlib import pyplot as plt\n",
    "import numpy as np\n",
    "import statistics\n",
    "from scipy.stats import geom\n",
    "from scipy.stats import chi2\n",
    "from collections import defaultdict"
   ]
  },
  {
   "cell_type": "code",
   "execution_count": 2,
   "id": "388ab5d3",
   "metadata": {},
   "outputs": [
    {
     "name": "stdout",
     "output_type": "stream",
     "text": [
      "6\n"
     ]
    }
   ],
   "source": [
    "# Dice-roll PRN Generator Test\n",
    "\n",
    "print(math.ceil(6*random.uniform(0,1)))"
   ]
  },
  {
   "cell_type": "code",
   "execution_count": 56,
   "id": "f174d37b",
   "metadata": {},
   "outputs": [],
   "source": [
    "# Function that runs 1 instance of the game. \n",
    "# Print statements that detail the roll and outcome of each turn are commented out.\n",
    "# Function returns the total number of cycles\n",
    "\n",
    "def game():\n",
    "    playerA_coins = 4\n",
    "    playerB_coins = 4\n",
    "    pot_coins = 2\n",
    "    turn_number = 0\n",
    "    a = 1\n",
    "    while(a == 1):\n",
    "        turn_number += 1\n",
    "#         print('Turn Number: ' + str(turn_number))\n",
    "        roll = math.ceil(6 * random.uniform(0, 1))\n",
    "        if turn_number % 2 == 1:\n",
    "            if roll == 2:\n",
    "#                 print('Player A rolled a ' + str(roll) + '.')\n",
    "                playerA_coins += pot_coins\n",
    "                pot_coins = 0\n",
    "            elif roll == 3:\n",
    "#                 print('Player A rolled a ' + str(roll) + '.')\n",
    "                t = math.floor(0.5 * pot_coins)\n",
    "                playerA_coins += t\n",
    "                pot_coins -= t\n",
    "            elif roll >= 4:\n",
    "#                 print('Player A rolled a ' + str(roll) + '.')\n",
    "                if playerA_coins == 0:\n",
    "#                     print('The game has ended. Player B wins!')\n",
    "#                     print('Total cycles: ' + str(math.ceil(turn_number/2)))\n",
    "                    break\n",
    "                else:\n",
    "                    playerA_coins -= 1\n",
    "                    pot_coins += 1\n",
    "            else:\n",
    "                pass\n",
    "#                 print('Player A rolled a ' + str(roll) + '.')\n",
    "        if turn_number % 2 == 0:\n",
    "            if roll == 2:\n",
    "#                 print('Player B rolled a ' + str(roll) + '.')\n",
    "                playerB_coins += pot_coins\n",
    "                pot_coins = 0\n",
    "            elif roll == 3:\n",
    "#                 print('Player B rolled a ' + str(roll) + '.')\n",
    "                t = math.floor(0.5 * pot_coins)\n",
    "                playerB_coins += t\n",
    "                pot_coins -= t\n",
    "            elif roll >= 4:\n",
    "#                 print('Player B rolled a ' + str(roll) + '.')\n",
    "                if playerB_coins == 0:\n",
    "#                     print('The game has ended. Player A wins!')\n",
    "#                     print('Total cycles: ' + str(math.ceil(turn_number/2)))\n",
    "                    break\n",
    "                else:\n",
    "                    playerB_coins -= 1\n",
    "                    pot_coins += 1\n",
    "            else:\n",
    "                pass\n",
    "#                 print('Player B rolled a ' + str(roll) + '.')\n",
    "#         print('Player A has ' + str(playerA_coins) + ' coins.')\n",
    "#         print('Player B has ' + str(playerB_coins) + ' coins.')\n",
    "#         print('There are ' + str(pot_coins) + ' coins in the pot.')\n",
    "#         print()\n",
    "    return math.ceil(turn_number/2)"
   ]
  },
  {
   "cell_type": "code",
   "execution_count": 57,
   "id": "d315e0d2",
   "metadata": {
    "scrolled": true
   },
   "outputs": [
    {
     "data": {
      "text/plain": [
       "30"
      ]
     },
     "execution_count": 57,
     "metadata": {},
     "output_type": "execute_result"
    }
   ],
   "source": [
    "game()"
   ]
  },
  {
   "cell_type": "code",
   "execution_count": 58,
   "id": "b0367fb2",
   "metadata": {},
   "outputs": [
    {
     "name": "stdout",
     "output_type": "stream",
     "text": [
      "100000\n",
      "5\n",
      "175\n",
      "17.48788\n"
     ]
    }
   ],
   "source": [
    "# Code block runs the Game Function 100,000 times and outputs the cycle length of each run into a list\n",
    "\n",
    "x = [game() for i in range(100000)]\n",
    "print(len(x))\n",
    "print(min(x))\n",
    "print(max(x))\n",
    "print(statistics.mean(x))"
   ]
  },
  {
   "cell_type": "code",
   "execution_count": 15,
   "id": "743eff03",
   "metadata": {
    "scrolled": true
   },
   "outputs": [
    {
     "data": {
      "image/png": "[encoded data removed]",
      "text/plain": [
       "<Figure size 432x288 with 1 Axes>"
      ]
     },
     "metadata": {
      "needs_background": "light"
     },
     "output_type": "display_data"
    }
   ],
   "source": [
    "## Histogram of output from 100,000 runs\n",
    "\n",
    "plt.hist(x, bins = 50)\n",
    "\n",
    "plt.show()"
   ]
  },
  {
   "cell_type": "code",
   "execution_count": 16,
   "id": "b56315af",
   "metadata": {
    "scrolled": true
   },
   "outputs": [
    {
     "name": "stdout",
     "output_type": "stream",
     "text": [
      "Estimate for p-hat: 0.05695980460508629\n"
     ]
    },
    {
     "data": {
      "image/png": "[encoded data removed]",
      "text/plain": [
       "<Figure size 432x288 with 1 Axes>"
      ]
     },
     "metadata": {
      "needs_background": "light"
     },
     "output_type": "display_data"
    }
   ],
   "source": [
    "## Estimate p-hat as 1/x-bar (MLE for Geometric Distribution)\n",
    "## Histogram of 100,000 [4 + geom(p_hat)] random variables\n",
    "\n",
    "p_hat = 1/(statistics.mean(x))\n",
    "print('Estimate for p-hat: ' + str(p_hat))\n",
    "\n",
    "y = [4 + np.random.geometric(p=p_hat) for i in range(100000)]\n",
    "plt.hist(y, bins = 50)\n",
    "plt.show()"
   ]
  },
  {
   "cell_type": "code",
   "execution_count": 59,
   "id": "cd98a4f1",
   "metadata": {},
   "outputs": [
    {
     "name": "stdout",
     "output_type": "stream",
     "text": [
      "6189.967642755946\n",
      "Degrees of Freedom: 74\n",
      "Chi-squared test statistic with 0.05 p-value from table: 109.074\n",
      "1.0\n"
     ]
    }
   ],
   "source": [
    "## Chi-squared G.O.F. Test\n",
    "\n",
    "geom.pmf(5, p_hat, loc=4)\n",
    "\n",
    "## Compute probabilities from 4 + geom(5, p_hat)\n",
    "## Cut off right tail at x = 80, all probabilities for x = 80+ placed into bucket\n",
    "\n",
    "probabilities = {i:geom.pmf(i, p_hat, loc=4) for i in range(5, 81)}\n",
    "probabilities[80] = 1 - geom.cdf(79, p_hat, loc=4)\n",
    "\n",
    "E_Y = {k:100000*v for k, v in probabilities.items()}\n",
    "\n",
    "O_Y = defaultdict(int)\n",
    "for item in x:\n",
    "    O_Y[item] += 1\n",
    "\n",
    "sort = list(O_Y.keys())\n",
    "sort.sort()\n",
    "O_Y_sort = {i: O_Y[i] for i in sort}\n",
    "\n",
    "## Construct x = 80+ bin for observed values\n",
    "\n",
    "o_bucket = 0\n",
    "for k, v in O_Y_sort.items():\n",
    "    if k >= 80:\n",
    "        o_bucket += v\n",
    "O_Y_sort[80] = o_bucket\n",
    "O_Y_final = {k:v for k, v in O_Y_sort.items() if k <=80}\n",
    "\n",
    "\n",
    "## Match Expected and Observed values in a default dictionary\n",
    "\n",
    "dd = defaultdict(list)\n",
    "for d in (E_Y, O_Y_final): \n",
    "    for key, value in d.items():\n",
    "        dd[key].append(value)\n",
    "\n",
    "dd_match = {k:v for k, v in dd.items() if len(v) == 2}\n",
    "\n",
    "## Compute chi-squared test statistic\n",
    "\n",
    "list_of_lists = [v for k, v in dd_match.items()]\n",
    "test_stats = [((tup[0] - tup[1])**2)/tup[0] for tup in list_of_lists]\n",
    "chi_sq = sum(test_stats)\n",
    "\n",
    "print(chi_sq)\n",
    "print('Degrees of Freedom: ' + str(len(test_stats) - 1 - 1))\n",
    "print('Chi-squared test statistic with 0.05 p-value from table: ' + str(109.074))\n",
    "print(chi2.cdf(chi_sq, df = 74))"
   ]
  },
  {
   "cell_type": "markdown",
   "id": "d1cf4513",
   "metadata": {},
   "source": [
    "The chi-squared test statistic is 6190, significatly higher than the statistic required to reject the null hypothesis that the distribution of cycle length does not resemble a 4 + geom(0.057) distribution. However, if the expected and observed values are placed into buckets(e.g. 5-10, 10-15,...) before performing the chi-squared test, the error would improve substantially, and the result could possibly indicate that the geometric distribution is a good fit."
   ]
  }
 ],
 "metadata": {
  "kernelspec": {
   "display_name": "Python 3 (ipykernel)",
   "language": "python",
   "name": "python3"
  },
  "language_info": {
   "codemirror_mode": {
    "name": "ipython",
    "version": 3
   },
   "file_extension": ".py",
   "mimetype": "text/x-python",
   "name": "python",
   "nbconvert_exporter": "python",
   "pygments_lexer": "ipython3",
   "version": "3.9.12"
  }
 },
 "nbformat": 4,
 "nbformat_minor": 5
}
